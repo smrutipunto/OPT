{
  "nbformat": 4,
  "nbformat_minor": 0,
  "metadata": {
    "colab": {
      "provenance": [],
      "include_colab_link": true
    },
    "kernelspec": {
      "name": "python3",
      "display_name": "Python 3"
    },
    "language_info": {
      "name": "python"
    }
  },
  "cells": [
    {
      "cell_type": "markdown",
      "metadata": {
        "id": "view-in-github",
        "colab_type": "text"
      },
      "source": [
        "<a href=\"https://colab.research.google.com/github/smrutipunto/OPT/blob/main/opt_8.ipynb\" target=\"_parent\"><img src=\"https://colab.research.google.com/assets/colab-badge.svg\" alt=\"Open In Colab\"/></a>"
      ]
    },
    {
      "cell_type": "code",
      "execution_count": null,
      "metadata": {
        "colab": {
          "base_uri": "https://localhost:8080/"
        },
        "id": "GeFQfD3cp-MF",
        "outputId": "0624cf8e-f9dc-4691-c57a-9bf73d92f494"
      },
      "outputs": [
        {
          "output_type": "stream",
          "name": "stdout",
          "text": [
            "----------------------------------------\n",
            " Optimal solution :  [1.99999999 2.99999999]\n",
            " Optimal value :  1.84598775337616e-16\n",
            " Number of iterations :  3\n"
          ]
        }
      ],
      "source": [
        "#Implementation of BFGS method\n",
        "import numpy as np\n",
        "from scipy . optimize import minimize\n",
        "\n",
        "# Define the objective function\n",
        "def objective ( x ) :\n",
        "    return ( x [0] - 2) **2 + ( x [1] - 3) **2\n",
        "\n",
        "# Initial guess\n",
        "x0 = [0 , 0]\n",
        "\n",
        "# Run BFGS optimization\n",
        "\n",
        "result = minimize ( objective , x0 , method = 'BFGS')\n",
        "print(\"-\"*40)\n",
        "print ( \" Optimal solution : \" , result . x )\n",
        "print ( \" Optimal value : \" , result . fun )\n",
        "print ( \" Number of iterations : \" , result . nit )"
      ]
    },
    {
      "cell_type": "code",
      "source": [
        "import numpy as np\n",
        "from scipy . optimize import minimize\n",
        "\n",
        "# Objective function to maximize\n",
        "def f ( x ) :\n",
        "    return -( x [0] - 1) **2 - 2*( x [1] - 2) **2 + 10\n",
        "\n",
        "# Since scipy minimizes , minimize the negative of f\n",
        "def neg_f ( x ) :\n",
        "    return -f ( x )\n",
        "\n",
        "x0 = [0 , 0] # Initial guess\n",
        "\n",
        "result = minimize ( neg_f , x0 , method = 'BFGS')\n",
        "print ( \" Optimal solution : \" , result . x )\n",
        "print ( \" Maximum value : \" , f ( result . x ) )\n",
        "print ( \" Number of iterations : \" , result . nit )"
      ],
      "metadata": {
        "colab": {
          "base_uri": "https://localhost:8080/"
        },
        "id": "xR8D5lifqWGr",
        "outputId": "2cd8cef6-761d-494f-886b-7b26a36ad40c"
      },
      "execution_count": null,
      "outputs": [
        {
          "output_type": "stream",
          "name": "stdout",
          "text": [
            " Optimal solution :  [0.99999757 2.00000076]\n",
            " Maximum value :  9.999999999992962\n",
            " Number of iterations :  6\n"
          ]
        }
      ]
    }
  ]
}