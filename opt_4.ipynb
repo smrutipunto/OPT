{
  "nbformat": 4,
  "nbformat_minor": 0,
  "metadata": {
    "colab": {
      "provenance": [],
      "include_colab_link": true
    },
    "kernelspec": {
      "name": "python3",
      "display_name": "Python 3"
    },
    "language_info": {
      "name": "python"
    }
  },
  "cells": [
    {
      "cell_type": "markdown",
      "metadata": {
        "id": "view-in-github",
        "colab_type": "text"
      },
      "source": [
        "<a href=\"https://colab.research.google.com/github/smrutipunto/OPT/blob/main/opt_4.ipynb\" target=\"_parent\"><img src=\"https://colab.research.google.com/assets/colab-badge.svg\" alt=\"Open In Colab\"/></a>"
      ]
    },
    {
      "cell_type": "code",
      "execution_count": null,
      "metadata": {
        "colab": {
          "base_uri": "https://localhost:8080/"
        },
        "id": "eonoxrsSnPhj",
        "outputId": "ed9568d9-f7fb-4486-99e9-1b16009310a6"
      },
      "outputs": [
        {
          "output_type": "stream",
          "name": "stdout",
          "text": [
            "Iteration 1: x = 1.500000\n",
            "Iteration 2: x = 1.416667\n",
            "Iteration 3: x = 1.414216\n",
            "Iteration 4: x = 1.414214\n",
            "Iteration 5: x = 1.414214\n",
            "Converged!\n",
            "\n",
            "Approximate Root: 1.414214\n"
          ]
        }
      ],
      "source": [
        "#Implementation of Newton&#39;s method\n",
        "import numpy as np\n",
        "\n",
        "def f(x):\n",
        "    return x**2 - 2\n",
        "\n",
        "def f_prime(x):\n",
        "    return 2 * x\n",
        "\n",
        "def newton_method(x0, tol=1e-6, max_iter=100):\n",
        "    x = x0\n",
        "    for i in range(max_iter):\n",
        "        fx = f(x)\n",
        "        fpx = f_prime(x)\n",
        "\n",
        "        if fpx == 0:\n",
        "            raise ValueError(\"Zero derivative. No solution found.\")\n",
        "\n",
        "        x_new = x - fx / fpx\n",
        "        print(f\"Iteration {i+1}: x = {x_new:.6f}\")\n",
        "\n",
        "        if abs(x_new - x) < tol:\n",
        "            print(\"Converged!\")\n",
        "            return x_new\n",
        "        x = x_new\n",
        "\n",
        "    raise ValueError(\"Did not converge\")\n",
        "\n",
        "# Example usage\n",
        "root = newton_method(1.0)\n",
        "print(f\"\\nApproximate Root: {root:.6f}\")"
      ]
    }
  ]
}