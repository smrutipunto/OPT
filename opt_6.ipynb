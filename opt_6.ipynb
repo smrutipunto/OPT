{
  "nbformat": 4,
  "nbformat_minor": 0,
  "metadata": {
    "colab": {
      "provenance": [],
      "include_colab_link": true
    },
    "kernelspec": {
      "name": "python3",
      "display_name": "Python 3"
    },
    "language_info": {
      "name": "python"
    }
  },
  "cells": [
    {
      "cell_type": "markdown",
      "metadata": {
        "id": "view-in-github",
        "colab_type": "text"
      },
      "source": [
        "<a href=\"https://colab.research.google.com/github/smrutipunto/OPT/blob/main/opt_6.ipynb\" target=\"_parent\"><img src=\"https://colab.research.google.com/assets/colab-badge.svg\" alt=\"Open In Colab\"/></a>"
      ]
    },
    {
      "cell_type": "code",
      "execution_count": null,
      "metadata": {
        "colab": {
          "base_uri": "https://localhost:8080/"
        },
        "id": "srDGxqxnoZQf",
        "outputId": "76573e1a-37ff-452c-a72b-12ce377db941"
      },
      "outputs": [
        {
          "output_type": "stream",
          "name": "stdout",
          "text": [
            "--- Maximization Example ---\n",
            "Objective: f(x, y) = x + y\n",
            "Constraint: g(x, y) = x^2 + y^2 - 1 = 0\n",
            "Optimal Point: x = -0.707106781186548, y = -0.707106781186548, f(x, y) = -1.41421356237310\n",
            "Optimal Point: x = 0.707106781186548, y = 0.707106781186548, f(x, y) = 1.41421356237310\n",
            "----------------------------------------\n",
            "--- Minimization Example ---\n",
            "Objective: f(x, y) = x^2 + y^2\n",
            "Constraint: g(x, y) = x + y - 1 = 0\n",
            "Optimal Point: x = 0.500000000000000, y = 0.500000000000000, Minimum f(x, y) = 0.500000000000000\n",
            "----------------------------------------\n"
          ]
        }
      ],
      "source": [
        "#Implementation of Lagrange\n",
        "multiplier method\n",
        "import sympy as sp\n",
        "\n",
        "# Define symbols\n",
        "x, y, lam = sp.symbols('x y lam')\n",
        "\n",
        "# --- Example 1: Maximization ---\n",
        "f_max = x + y\n",
        "g_max = x**2 + y**2 - 1  # Constraint: Circle of radius 1\n",
        "\n",
        "# Lagrangian\n",
        "L_max = f_max - lam * g_max\n",
        "\n",
        "# Compute gradients\n",
        "grad_x_max = sp.diff(L_max, x)\n",
        "grad_y_max = sp.diff(L_max, y)\n",
        "grad_lam_max = sp.diff(L_max, lam)\n",
        "\n",
        "# Solve the system\n",
        "print(\"--- Maximization Example ---\")\n",
        "print(\"Objective: f(x, y) = x + y\")\n",
        "print(\"Constraint: g(x, y) = x^2 + y^2 - 1 = 0\")\n",
        "solutions_max = sp.solve([grad_x_max, grad_y_max, grad_lam_max], (x, y, lam), dict=True)\n",
        "\n",
        "# Display results\n",
        "for sol in solutions_max:\n",
        "    x_val = sol[x].evalf()\n",
        "    y_val = sol[y].evalf()\n",
        "    f_val = f_max.subs({x: x_val, y: y_val}).evalf()\n",
        "    print(f\"Optimal Point: x = {x_val}, y = {y_val}, f(x, y) = {f_val}\")\n",
        "print(\"-\" * 40)\n",
        "\n",
        "# --- Example 2: Minimization ---\n",
        "f_min = x**2 + y**2\n",
        "g_min = x + y - 1  # Constraint: Line x + y = 1\n",
        "\n",
        "# Lagrangian\n",
        "L_min = f_min - lam * g_min\n",
        "\n",
        "# Compute gradients\n",
        "grad_x_min = sp.diff(L_min, x)\n",
        "grad_y_min = sp.diff(L_min, y)\n",
        "grad_lam_min = sp.diff(L_min, lam)\n",
        "\n",
        "print(\"--- Minimization Example ---\")\n",
        "print(\"Objective: f(x, y) = x^2 + y^2\")\n",
        "print(\"Constraint: g(x, y) = x + y - 1 = 0\")\n",
        "solutions_min = sp.solve([grad_x_min, grad_y_min, grad_lam_min], (x, y, lam), dict=True)\n",
        "\n",
        "# Display results\n",
        "for s in solutions_min:\n",
        "    x_val = s[x].evalf()\n",
        "    y_val = s[y].evalf()\n",
        "    f_val = f_min.subs({x: x_val, y: y_val}).evalf()  # Use f_min here\n",
        "    print(f\"Optimal Point: x = {x_val}, y = {y_val}, Minimum f(x, y) = {f_val}\")\n",
        "print(\"-\" * 40)"
      ]
    },
    {
      "cell_type": "code",
      "source": [],
      "metadata": {
        "id": "Jwdnxp2-o2rN"
      },
      "execution_count": null,
      "outputs": []
    }
  ]
}