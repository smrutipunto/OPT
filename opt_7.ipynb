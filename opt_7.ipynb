{
  "nbformat": 4,
  "nbformat_minor": 0,
  "metadata": {
    "colab": {
      "provenance": [],
      "include_colab_link": true
    },
    "kernelspec": {
      "name": "python3",
      "display_name": "Python 3"
    },
    "language_info": {
      "name": "python"
    }
  },
  "cells": [
    {
      "cell_type": "markdown",
      "metadata": {
        "id": "view-in-github",
        "colab_type": "text"
      },
      "source": [
        "<a href=\"https://colab.research.google.com/github/smrutipunto/OPT/blob/main/opt_7.ipynb\" target=\"_parent\"><img src=\"https://colab.research.google.com/assets/colab-badge.svg\" alt=\"Open In Colab\"/></a>"
      ]
    },
    {
      "cell_type": "code",
      "execution_count": null,
      "metadata": {
        "colab": {
          "base_uri": "https://localhost:8080/"
        },
        "id": "zDmok2Syo_ul",
        "outputId": "7cc63ef6-8b9f-460a-8ca9-33fe6c70a08d"
      },
      "outputs": [
        {
          "output_type": "stream",
          "name": "stdout",
          "text": [
            "--- Example 1: Equality and Inequality Constraints ---\n",
            "Optimal solution (x, y): [0.5 0.5]\n",
            "Optimal value (f(x,y)): 0.5\n",
            "Success: True\n",
            "----------------------------------------\n"
          ]
        }
      ],
      "source": [
        "#Implementation of KKT theorem\n",
        "import numpy as np\n",
        "from scipy.optimize import minimize\n",
        "\n",
        "# Practical 7: Implementation of Karush-Kuhn-Tucker (KKT) Theorem\n",
        "\n",
        "print(\"--- Example 1: Equality and Inequality Constraints ---\")\n",
        "\n",
        "# Objective function\n",
        "def objective_ex1(x):\n",
        "    return x[0]**2 + x[1]**2\n",
        "\n",
        "# Equality constraint: x + y - 1 = 0\n",
        "def eq_constraint_ex1(x):\n",
        "    return x[0] + x[1] - 1\n",
        "\n",
        "# Inequality constraints: x >= 0, y >= 0\n",
        "# SciPy expects inequality constraints in the form g(x) >= 0\n",
        "ineq_constraints_ex1 = [\n",
        "    {'type': 'ineq', 'fun': lambda x: x[0]},  # x >= 0\n",
        "    {'type': 'ineq', 'fun': lambda x: x[1]}   # y >= 0\n",
        "]\n",
        "\n",
        "# Combine all constraints\n",
        "constraints_ex1 = [{'type': 'eq', 'fun': eq_constraint_ex1}] + ineq_constraints_ex1\n",
        "\n",
        "# Initial guess\n",
        "x0_ex1 = [0.5, 0.5]\n",
        "\n",
        "# Solve using SLSQP method (Sequential Least Squares Programming)\n",
        "result_ex1 = minimize(objective_ex1, x0_ex1, method='SLSQP', constraints=constraints_ex1)\n",
        "\n",
        "print(\"Optimal solution (x, y):\", result_ex1.x)\n",
        "print(\"Optimal value (f(x,y)):\", result_ex1.fun)\n",
        "print(\"Success:\", result_ex1.success)\n",
        "print(\"-\" * 40)"
      ]
    },
    {
      "cell_type": "code",
      "source": [
        "print(\"--- Example 2: Only Inequality Constraints ---\")\n",
        "\n",
        "# Objective function (same as Example 1)\n",
        "def objective_ex2(x):\n",
        "    return x[0]**2 + x[1]**2\n",
        "\n",
        "constraints_ex2 = [\n",
        "    {'type': 'ineq', 'fun': lambda x: x[0] + x[1] - 2},  # x + y >= 2\n",
        "    {'type': 'ineq', 'fun': lambda x: x[0]},            # x >= 0\n",
        "    {'type': 'ineq', 'fun': lambda x: x[1]}             # y >= 0\n",
        "]\n",
        "\n",
        "x0_ex2 = [0.1, 2]  # Initial guess\n",
        "\n",
        "result_ex2 = minimize(objective_ex2, x0_ex2, method='SLSQP', constraints=constraints_ex2)\n",
        "\n",
        "print(\"Optimal solution (x, y):\", result_ex2.x)\n",
        "print(\"Optimal value (f(x,y)):\", result_ex2.fun)\n",
        "print(\"Success:\", result_ex2.success)\n",
        "print(\"-\" * 40)"
      ],
      "metadata": {
        "colab": {
          "base_uri": "https://localhost:8080/"
        },
        "id": "QmfTFQzfpuFH",
        "outputId": "9a0e211b-5c2d-41df-81c2-a90505c9621f"
      },
      "execution_count": null,
      "outputs": [
        {
          "output_type": "stream",
          "name": "stdout",
          "text": [
            "--- Example 2: Only Inequality Constraints ---\n",
            "Optimal solution (x, y): [0.99967117 1.00032883]\n",
            "Optimal value (f(x,y)): 2.0000002162606636\n",
            "Success: True\n",
            "----------------------------------------\n"
          ]
        }
      ]
    }
  ]
}