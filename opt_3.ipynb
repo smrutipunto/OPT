{
  "nbformat": 4,
  "nbformat_minor": 0,
  "metadata": {
    "colab": {
      "provenance": [],
      "include_colab_link": true
    },
    "kernelspec": {
      "name": "python3",
      "display_name": "Python 3"
    },
    "language_info": {
      "name": "python"
    }
  },
  "cells": [
    {
      "cell_type": "markdown",
      "metadata": {
        "id": "view-in-github",
        "colab_type": "text"
      },
      "source": [
        "<a href=\"https://colab.research.google.com/github/smrutipunto/OPT/blob/main/opt_3.ipynb\" target=\"_parent\"><img src=\"https://colab.research.google.com/assets/colab-badge.svg\" alt=\"Open In Colab\"/></a>"
      ]
    },
    {
      "cell_type": "code",
      "execution_count": null,
      "metadata": {
        "colab": {
          "base_uri": "https://localhost:8080/"
        },
        "id": "6_iGRxDrmLYQ",
        "outputId": "b5f1d843-217d-44a0-ad20-4e01b131c9ee"
      },
      "outputs": [
        {
          "output_type": "stream",
          "name": "stdout",
          "text": [
            "--- Simplex Method Example (Maximization) ---\n",
            "Initial Tableau:\n",
            " [[ 1.  1.  1.  0.  4.]\n",
            " [ 2.  1.  0.  1.  6.]\n",
            " [-3. -2.  0.  0.  0.]]\n",
            "----------------------------------------\n",
            "Iteration 1:\n",
            "  Pivot Column (entering variable index): 0\n",
            "  Pivot Row (leaving variable index): 1\n",
            "  Pivot Element: 2.0\n",
            "  Tableau after pivot:\n",
            " [[ 0.   0.5  1.  -0.5  1. ]\n",
            " [ 1.   0.5  0.   0.5  3. ]\n",
            " [ 0.  -0.5  0.   1.5  9. ]]\n",
            "----------------------------------------\n",
            "Iteration 2:\n",
            "  Pivot Column (entering variable index): 1\n",
            "  Pivot Row (leaving variable index): 0\n",
            "  Pivot Element: 0.5\n",
            "  Tableau after pivot:\n",
            " [[ 0.  1.  2. -1.  2.]\n",
            " [ 1.  0. -1.  1.  2.]\n",
            " [ 0.  0.  1.  1. 10.]]\n",
            "----------------------------------------\n",
            "\n",
            "Optimal Value (Simplex): 10.0\n",
            "Optimal Solution (Simplex - x1, x2): [2. 2.]\n",
            "============================================================\n"
          ]
        }
      ],
      "source": [
        "# Practical 3: Simplex Algorithm and Duality\n",
        "import numpy as np\n",
        "from scipy.integrate import quad, dblquad\n",
        "\n",
        "# --- Part 1: Basic Simplex Algorithm (Maximization) ---\n",
        "\n",
        "def simplex_method(c, A, b):\n",
        "    num_vars = len(c)\n",
        "    num_constraints = len(b)\n",
        "\n",
        "    tableau = np.zeros((num_constraints + 1, num_vars + num_constraints + 1))\n",
        "    tableau[:num_constraints, :num_vars] = A\n",
        "    tableau[:num_constraints, num_vars:num_vars + num_constraints] = np.eye(num_constraints)\n",
        "    tableau[:num_constraints, -1] = b\n",
        "    tableau[-1, :num_vars] = -c\n",
        "    tableau[-1, -1] = 0\n",
        "\n",
        "    print(\"Initial Tableau:\\n\", tableau)\n",
        "    print(\"-\" * 40)\n",
        "\n",
        "    iteration = 0\n",
        "    while np.any(tableau[-1, :-1] < 0):\n",
        "        iteration += 1\n",
        "        print(f\"Iteration {iteration}:\")\n",
        "\n",
        "        pivot_col = np.argmin(tableau[-1, :-1])\n",
        "        print(f\"  Pivot Column (entering variable index): {pivot_col}\")\n",
        "\n",
        "        if np.all(tableau[:-1, pivot_col] <= 0):\n",
        "            print(\"Problem is unbounded!\")\n",
        "            return None\n",
        "\n",
        "        ratios = []\n",
        "        for i in range(num_constraints):\n",
        "            if tableau[i, pivot_col] > 0:\n",
        "                ratios.append(tableau[i, -1] / tableau[i, pivot_col])\n",
        "            else:\n",
        "                ratios.append(np.inf)\n",
        "        pivot_row = np.argmin(ratios)\n",
        "        print(f\"  Pivot Row (leaving variable index): {pivot_row}\")\n",
        "\n",
        "        pivot_element = tableau[pivot_row, pivot_col]\n",
        "        print(f\"  Pivot Element: {pivot_element}\")\n",
        "\n",
        "        tableau[pivot_row, :] = tableau[pivot_row, :] / pivot_element\n",
        "\n",
        "        for i in range(num_constraints + 1):\n",
        "            if i != pivot_row:\n",
        "                factor = tableau[i, pivot_col]\n",
        "                tableau[i, :] = tableau[i, :] - factor * tableau[pivot_row, :]\n",
        "\n",
        "        print(\"  Tableau after pivot:\\n\", tableau)\n",
        "        print(\"-\" * 40)\n",
        "\n",
        "    optimal_value = tableau[-1, -1]\n",
        "    optimal_solution = np.zeros(num_vars)\n",
        "\n",
        "    for j in range(num_vars):\n",
        "        col = tableau[:, j]\n",
        "        if np.count_nonzero(col) == 1 and np.all(col[col != 0] == 1):\n",
        "            row_idx = np.where(col == 1)[0][0]\n",
        "            if row_idx < num_constraints:\n",
        "                optimal_solution[j] = tableau[row_idx, -1]\n",
        "\n",
        "    return optimal_value, optimal_solution\n",
        "\n",
        "if __name__ == \"__main__\":\n",
        "    print(\"--- Simplex Method Example (Maximization) ---\")\n",
        "\n",
        "    c_simplex = np.array([3, 2])\n",
        "    A_simplex = np.array([[1, 1],\n",
        "                          [2, 1]])\n",
        "    b_simplex = np.array([4, 6])\n",
        "\n",
        "    optimal_val, optimal_sol = simplex_method(c_simplex, A_simplex, b_simplex)\n",
        "\n",
        "    if optimal_val is not None:\n",
        "        print(\"\\nOptimal Value (Simplex):\", optimal_val)\n",
        "        print(\"Optimal Solution (Simplex - x1, x2):\", optimal_sol[:len(c_simplex)])\n",
        "    print(\"=\" * 60)\n"
      ]
    },
    {
      "cell_type": "code",
      "source": [
        "# --- Part 2: Duality ---\n",
        "\n",
        "def form_dual_problem(c_primal, A_primal, b_primal):\n",
        "    c_dual = b_primal\n",
        "    A_dual = A_primal.T\n",
        "    b_dual = c_primal\n",
        "    return c_dual, A_dual, b_dual\n",
        "\n",
        "if __name__ == \"__main__\":\n",
        "    print(\"\\n--- Duality Example ---\")\n",
        "    print(\"Primal Problem (from Simplex Example):\")\n",
        "    print(\"  Maximize Z = 3x1 + 2x2\")\n",
        "    print(\"  Subject to:\")\n",
        "    print(\"    x1 + x2 <= 4\")\n",
        "    print(\"    2x1 + x2 <= 6\")\n",
        "    print(\"    x1, x2 >= 0\")\n",
        "\n",
        "    c_primal_ex = np.array([3, 2])\n",
        "    A_primal_ex = np.array([[1, 1],\n",
        "                            [2, 1]])\n",
        "    b_primal_ex = np.array([4, 6])\n",
        "\n",
        "    c_dual_ex, A_dual_ex, b_dual_ex = form_dual_problem(c_primal_ex, A_primal_ex, b_primal_ex)\n",
        "\n",
        "    print(\"\\nCorresponding Dual Problem:\")\n",
        "    print(f\"  Minimize W = {c_dual_ex[0]}y1 + {c_dual_ex[1]}y2\")\n",
        "    print(\"  Subject to:\")\n",
        "    print(f\"    {A_dual_ex[0,0]}y1 + {A_dual_ex[0,1]}y2 >= {b_dual_ex[0]}\")\n",
        "    print(f\"    {A_dual_ex[1,0]}y1 + {A_dual_ex[1,1]}y2 >= {b_dual_ex[1]}\")\n",
        "    print(\"    y1, y2 >= 0\")\n",
        "\n",
        "    print(\"\\nRelationship between Primal and Dual:\")\n",
        "    print(\"The optimal value of the Primal problem (Maximization) will be equal to the optimal value of the Dual problem (Minimization).\")\n",
        "    try:\n",
        "        print(\"From Simplex calculation, Primal Optimal Value (Z) =\", optimal_val)\n",
        "        print(\"Thus, the Dual Optimal Value (W) should also be =\", optimal_val)\n",
        "    except NameError:\n",
        "        print(\"Primal Optimal Value not computed yet. Run Simplex first.\")"
      ],
      "metadata": {
        "colab": {
          "base_uri": "https://localhost:8080/"
        },
        "id": "ezV2C3W-nCWd",
        "outputId": "b45ec3e2-ea0a-40ad-885e-6781242ad198"
      },
      "execution_count": null,
      "outputs": [
        {
          "output_type": "stream",
          "name": "stdout",
          "text": [
            "\n",
            "--- Duality Example ---\n",
            "Primal Problem (from Simplex Example):\n",
            "  Maximize Z = 3x1 + 2x2\n",
            "  Subject to:\n",
            "    x1 + x2 <= 4\n",
            "    2x1 + x2 <= 6\n",
            "    x1, x2 >= 0\n",
            "\n",
            "Corresponding Dual Problem:\n",
            "  Minimize W = 4y1 + 6y2\n",
            "  Subject to:\n",
            "    1y1 + 2y2 >= 3\n",
            "    1y1 + 1y2 >= 2\n",
            "    y1, y2 >= 0\n",
            "\n",
            "Relationship between Primal and Dual:\n",
            "The optimal value of the Primal problem (Maximization) will be equal to the optimal value of the Dual problem (Minimization).\n",
            "From Simplex calculation, Primal Optimal Value (Z) = 10.0\n",
            "Thus, the Dual Optimal Value (W) should also be = 10.0\n"
          ]
        }
      ]
    }
  ]
}