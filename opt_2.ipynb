{
  "nbformat": 4,
  "nbformat_minor": 0,
  "metadata": {
    "colab": {
      "provenance": [],
      "include_colab_link": true
    },
    "kernelspec": {
      "name": "python3",
      "display_name": "Python 3"
    },
    "language_info": {
      "name": "python"
    }
  },
  "cells": [
    {
      "cell_type": "markdown",
      "metadata": {
        "id": "view-in-github",
        "colab_type": "text"
      },
      "source": [
        "<a href=\"https://colab.research.google.com/github/smrutipunto/OPT/blob/main/opt_2.ipynb\" target=\"_parent\"><img src=\"https://colab.research.google.com/assets/colab-badge.svg\" alt=\"Open In Colab\"/></a>"
      ]
    },
    {
      "cell_type": "code",
      "execution_count": null,
      "metadata": {
        "id": "-wcctl3Nl7KF"
      },
      "outputs": [],
      "source": [
        "#Integration of a vector and matrix\n",
        "from sympy import Matrix, symbols, integrate\n",
        "\n",
        "# Define symbols\n",
        "x1, x2 = symbols('x1 x2')\n",
        "x = Matrix([x1, x2])"
      ]
    },
    {
      "cell_type": "code",
      "source": [
        "#Problem 1: Integrate a Scalar Function\n",
        "\n",
        "f = x1**2 + 3*x1*x2 + x2**2\n",
        "integrated_f_x1 = integrate(f, x1)  # integrate w.r.t x1\n",
        "integrated_f_x2 = integrate(f, x2)  # integrate w.r.t x2\n",
        "\n",
        "print(\"∫f dx1 =\", integrated_f_x1)\n",
        "print(\"∫f dx2 =\", integrated_f_x2)"
      ],
      "metadata": {
        "colab": {
          "base_uri": "https://localhost:8080/"
        },
        "id": "XvdZS8r0mENp",
        "outputId": "8582e729-cf30-42b2-c1d0-c611e30782ea"
      },
      "execution_count": null,
      "outputs": [
        {
          "output_type": "stream",
          "name": "stdout",
          "text": [
            "∫f dx1 = x1**3/3 + 3*x1**2*x2/2 + x1*x2**2\n",
            "∫f dx2 = x1**2*x2 + 3*x1*x2**2/2 + x2**3/3\n"
          ]
        }
      ]
    },
    {
      "cell_type": "code",
      "source": [
        "#Problem 2: Integrate a Vector Function\n",
        "f_vec = Matrix([x1**2 + x2, x1 + x2**2])\n",
        "integrated_fvec_x1 = f_vec.applyfunc(lambda expr: integrate(expr, x1))\n",
        "integrated_fvec_x2 = f_vec.applyfunc(lambda expr: integrate(expr, x2))\n",
        "\n",
        "print(\"∫f dx1:\\n\", integrated_fvec_x1)\n",
        "print(\"∫f dx2:\\n\", integrated_fvec_x2)"
      ],
      "metadata": {
        "colab": {
          "base_uri": "https://localhost:8080/"
        },
        "id": "YLiOYyKKmFFJ",
        "outputId": "ff584ac4-9f96-48fe-c50b-305c77472670"
      },
      "execution_count": null,
      "outputs": [
        {
          "output_type": "stream",
          "name": "stdout",
          "text": [
            "∫f dx1:\n",
            " Matrix([[x1**3/3 + x1*x2], [x1**2/2 + x1*x2**2]])\n",
            "∫f dx2:\n",
            " Matrix([[x1**2*x2 + x2**2/2], [x1*x2 + x2**3/3]])\n"
          ]
        }
      ]
    },
    {
      "cell_type": "code",
      "source": [
        "#Problem 3: Integrate a Quadratic Form\n",
        "from sympy import Matrix, symbols, integrate\n",
        "\n",
        "x1, x2 = symbols('x1 x2')\n",
        "f = x1**2 + 3*x1*x2 + x2**2\n",
        "\n",
        "integrated_f_x1 = integrate(f, x1)  # integrate with respect to x1\n",
        "integrated_f_x2 = integrate(f, x2)  # integrate with respect to x2\n",
        "\n",
        "print(\"Integral of f with respect to x1:\", integrated_f_x1)\n",
        "print(\"Integral of f with respect to x2:\", integrated_f_x2)"
      ],
      "metadata": {
        "colab": {
          "base_uri": "https://localhost:8080/"
        },
        "id": "94pRKwEmmF-z",
        "outputId": "752969db-c1d4-46d7-9cc1-96a662687ff7"
      },
      "execution_count": null,
      "outputs": [
        {
          "output_type": "stream",
          "name": "stdout",
          "text": [
            "Integral of f with respect to x1: x1**3/3 + 3*x1**2*x2/2 + x1*x2**2\n",
            "Integral of f with respect to x2: x1**2*x2 + 3*x1*x2**2/2 + x2**3/3\n"
          ]
        }
      ]
    },
    {
      "cell_type": "code",
      "source": [],
      "metadata": {
        "id": "BoqTxoJdmHA6"
      },
      "execution_count": null,
      "outputs": []
    }
  ]
}